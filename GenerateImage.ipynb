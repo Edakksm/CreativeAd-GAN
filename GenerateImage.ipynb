import os
from IPython.core.display import display, HTML

class Model:    
    def predict(self, dataset='coco'):      
        if dataset == 'coco':
            os.system("sh ./scripts/demo_coco.sh")
            display(HTML('<h1>MS COCO Dataset</h1>'))
            display(HTML(filename='./coco.html'))
        elif dataset == 'flowers':
            os.system("sh ./scripts/demo_flowers.sh")
            display(HTML('<h1>Flowers Dataset</h1>'))
            display(HTML(filename='./flowers.html'))
        elif dataset == 'birds':
            os.system("sh ./scripts/demo_cub.sh")
            display(HTML('<h1>Birds Dataset</h1>'))
            display(HTML(filename='./cub.html'))
        elif dataset == 'storybook':
            os.system("sh ./scripts/demo_coco_storybook.sh")
            display(HTML('<h1>StoryBook</h1>'))
            display(HTML(filename='./coco.html'))

model = Model()
model.predict(dataset='flowers')
model.predict(dataset='birds')
model.predict(dataset='coco')